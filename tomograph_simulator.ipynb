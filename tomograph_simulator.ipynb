{
 "cells": [
  {
   "cell_type": "markdown",
   "metadata": {},
   "source": [
    "# Symulator tomografu komputerowego"
   ]
  },
  {
   "cell_type": "markdown",
   "metadata": {},
   "source": [
    "Mikołaj Kiszka 155973 <br>\n",
    "Maja Komorowska 155844"
   ]
  },
  {
   "cell_type": "markdown",
   "metadata": {},
   "source": [
    "Poniżej opisane są fragmenty kodu zastosowane do stworzenia symulatora tomografu komputerowego. Do interaktywnego interfejsu można przejść [tutaj](#aplikacja-interaktywna)"
   ]
  },
  {
   "cell_type": "markdown",
   "metadata": {},
   "source": [
    "### Symulator tomografu komputerowego wykanany został w Pythonie\n",
    "Wykorzystane biblioteki:"
   ]
  },
  {
   "cell_type": "code",
   "execution_count": 16,
   "metadata": {},
   "outputs": [],
   "source": [
    "from PIL import Image\n",
    "import matplotlib.pyplot as plt\n",
    "from IPython.display import HTML\n",
    "import numpy as np \n",
    "import os\n",
    "import pydicom\n",
    "from pydicom.dataset import Dataset\n",
    "import ipywidgets as widgets\n",
    "from IPython.display import display\n",
    "import matplotlib.animation as anim\n",
    "import datetime\n",
    "import random\n",
    "import time\n",
    "from IPython.display import display, clear_output\n",
    "\n",
    "FULL_SCAN_ANGLE = 360.0\n",
    "global singoram_steps\n",
    "singoram_steps = []\n",
    "global inverse_radon_steps\n",
    "inverse_radon_steps = []"
   ]
  },
  {
   "cell_type": "markdown",
   "metadata": {},
   "source": [
    "### Odczyt plików jpg i dicom"
   ]
  },
  {
   "cell_type": "code",
   "execution_count": 17,
   "metadata": {},
   "outputs": [],
   "source": [
    "def cutThirdDimension(bitmap):\n",
    "    if bitmap.ndim == 3:\n",
    "        return bitmap[..., 0]\n",
    "    else:\n",
    "        return bitmap\n",
    "\n",
    "def scaleBitmap(bitmap):\n",
    "    return bitmap/255.0\n",
    "\n",
    "def turnSingleJpgIntoBitmap(single_file):\n",
    "    directory = r\"Tomograf-images\"\n",
    "    jpg_file = os.path.join(directory, single_file)\n",
    "    if single_file.lower().endswith('.jpg'):\n",
    "        img = Image.open(jpg_file)\n",
    "        bitmap = np.array(img)\n",
    "        return scaleBitmap(cutThirdDimension(bitmap))\n",
    "    else:\n",
    "        print('Wrong file format')\n",
    "        exit()\n",
    "\n",
    "def turnSingleDicomIntoBitmap(single_file):\n",
    "    directory = r\"Tomograf-dicom\"\n",
    "    dicom_file = os.path.join(directory, single_file)\n",
    "\n",
    "    if single_file.lower().endswith('.dcm'):\n",
    "        dicom_data = pydicom.dcmread(dicom_file)\n",
    "        bitmap = dicom_data.pixel_array.astype(np.float32)  # Convert to float for stability\n",
    "        return scaleBitmap(cutThirdDimension(bitmap))\n",
    "    else:\n",
    "        print('Wrong file format')\n",
    "        exit()\n",
    "    "
   ]
  },
  {
   "cell_type": "markdown",
   "metadata": {},
   "source": [
    "### Obsługa zapisu plików do foramtów jpg i dicom"
   ]
  },
  {
   "cell_type": "code",
   "execution_count": 18,
   "metadata": {},
   "outputs": [],
   "source": [
    "def saveBitmapAsJpg(bitmap, filename):\n",
    "    img = Image.fromarray((bitmap * 255).astype(np.uint8))  # Normalize to 0-255 range\n",
    "    img.save(filename, format=\"JPEG\")\n",
    "\n",
    "def saveBitmapAsDicom(bitmap, filename, patient_name, patient_id, date, comment=\"Generated DICOM image\"):\n",
    "    ds = Dataset()\n",
    "\n",
    "    # Set required DICOM fields (some set to static or random values)\n",
    "    ds.PatientName = patient_name\n",
    "    ds.PatientID = patient_id\n",
    "    ds.Modality = \"CT\"\n",
    "    ds.StudyDate = datetime.datetime.strptime(date, \"%d.%m.%Y\")\n",
    "    ds.StudyInstanceUID = pydicom.uid.generate_uid()\n",
    "    ds.SeriesInstanceUID = pydicom.uid.generate_uid()\n",
    "    ds.SOPInstanceUID = pydicom.uid.generate_uid()\n",
    "    ds.SOPClassUID = pydicom.uid.CTImageStorage\n",
    "    ds.ImageType = [\"ORIGINAL\", \"PRIMARY\", \"AXIAL\"]\n",
    "    ds.InstanceNumber = str(random.randint(1, 100))\n",
    "    ds.ImagesInAcquisition = \"1\"\n",
    "    ds.FrameOfReferenceUID = pydicom.uid.generate_uid()\n",
    "\n",
    "    # Convert bitmap to DICOM pixel array\n",
    "    ds.Rows, ds.Columns = bitmap.shape\n",
    "    ds.PhotometricInterpretation = \"MONOCHROME2\"\n",
    "    ds.SamplesPerPixel = 1\n",
    "    ds.BitsAllocated = 16\n",
    "    ds.BitsStored = 16\n",
    "    ds.HighBit = 15\n",
    "    ds.PixelRepresentation = 0\n",
    "    ds.PixelData = (bitmap.astype(np.uint16)).tobytes()\n",
    "\n",
    "    # Set DICOM file meta information\n",
    "    file_meta = pydicom.dataset.FileMetaDataset()\n",
    "    file_meta.MediaStorageSOPClassUID = pydicom.uid.SecondaryCaptureImageStorage\n",
    "    file_meta.MediaStorageSOPInstanceUID = pydicom.uid.generate_uid()\n",
    "    file_meta.TransferSyntaxUID = pydicom.uid.ExplicitVRLittleEndian\n",
    "    file_meta.ImplementationClassUID = pydicom.uid.generate_uid()\n",
    "    file_meta.ImplementationVersionName = \"PYDICOM 2.0.0\"\n",
    "\n",
    "    ds.file_meta = file_meta\n",
    "\n",
    "    ds.ImageComments = comment\n",
    "\n",
    "    # Save as DICOM file\n",
    "    ds.is_little_endian = True\n",
    "    ds.is_implicit_VR = False\n",
    "    ds.save_as(filename, write_like_original=False)"
   ]
  },
  {
   "cell_type": "markdown",
   "metadata": {},
   "source": [
    "### Algorytm Brehensama\n",
    "Zastosowany do symulacji promieni od emiterów do detektorów"
   ]
  },
  {
   "cell_type": "code",
   "execution_count": 19,
   "metadata": {},
   "outputs": [],
   "source": [
    "def bresenhamAlgorithm(x1, y1, x2, y2):\n",
    "    points = []\n",
    "    x = x1\n",
    "    y = y1\n",
    "    dx = abs(x2 - x1)\n",
    "    dy = abs(y2 - y1)\n",
    "\n",
    "    # Direction of the algorithm\n",
    "    xi = 1 if x1 < x2 else -1\n",
    "    yi = 1 if y1 < y2 else -1\n",
    "\n",
    "    # First pixel\n",
    "    points.append((x,y))\n",
    "\n",
    "    if dx > dy:\n",
    "        # Algorithm operates on the leading axis OX\n",
    "        \n",
    "        d = 2*dy - dx\n",
    "        while x != x2:\n",
    "            # Incrementing D according to algorithm\n",
    "            if d >= 0:\n",
    "                # Move diagonally\n",
    "                x += xi\n",
    "                y += yi\n",
    "                d += 2*(dy-dx)\n",
    "            else:\n",
    "                # Move horizzontally\n",
    "                d += 2*dy\n",
    "                x += xi\n",
    "            points.append((x,y))\n",
    "    else:\n",
    "        # Algorithm operates on the leading axis OY\n",
    "\n",
    "        d = 2*dx - dy\n",
    "        while y != y2:\n",
    "            # Incrementing D according to algorithm\n",
    "            if d >= 0:\n",
    "                # Move diagonally\n",
    "                x += xi\n",
    "                y += yi\n",
    "                d += 2*(dx-dy)\n",
    "            else:\n",
    "                # Move vertically\n",
    "                d += 2*dx\n",
    "                y += yi\n",
    "            points.append((x,y))\n",
    "    return points"
   ]
  },
  {
   "cell_type": "markdown",
   "metadata": {},
   "source": [
    "### Funkcja rozszerzająca obrazy prostokątne do kwadratowych\n",
    "Piksele poza oryginalnym obrazem wypełnione zerami"
   ]
  },
  {
   "cell_type": "code",
   "execution_count": 20,
   "metadata": {},
   "outputs": [],
   "source": [
    "def resizeImage(bitmap):\n",
    "    # Get the dimensions of the input bitmap (rectangle)\n",
    "    a, b = bitmap.shape\n",
    "\n",
    "    # If already square just return unchanged\n",
    "    if a == b:\n",
    "        return bitmap\n",
    "    \n",
    "    size = max(a, b)\n",
    "\n",
    "    # Create a bitmap with the desired dimensions\n",
    "    big_bitmap = np.zeros((size, size), dtype=bitmap.dtype)\n",
    "\n",
    "    # Compute the offsets to center the image\n",
    "    start_x = (size - a) // 2\n",
    "    start_y = (size - b) // 2\n",
    "\n",
    "    # Copy the original bitmap into the center of the new bitmap\n",
    "    big_bitmap[start_x:start_x + a, start_y:start_y + b] = bitmap\n",
    "\n",
    "    return big_bitmap"
   ]
  },
  {
   "cell_type": "markdown",
   "metadata": {},
   "source": [
    "### Transformata Radona\n",
    "Zastosowany model stożkowy z symulacją ruchu emitera i detektorów"
   ]
  },
  {
   "cell_type": "code",
   "execution_count": 21,
   "metadata": {},
   "outputs": [],
   "source": [
    "def radonTransform(bitmap , step, detectors_span, detectors_number):\n",
    "    global singoram_steps\n",
    "    singoram_steps = []\n",
    "    bitmap = resizeImage(bitmap)\n",
    "\n",
    "    size = max(bitmap.shape)\n",
    "    center = size//2\n",
    "    radius = size//2 - 1\n",
    "\n",
    "    angles = np.deg2rad(np.arange(0,FULL_SCAN_ANGLE,step))\n",
    "    span_rad = np.deg2rad(detectors_span)\n",
    "\n",
    "    sinogram = np.zeros((len(angles), detectors_number), dtype=bitmap.dtype)\n",
    "    \n",
    "    for a_i, angle in enumerate(angles):\n",
    "        # Emitter coordinates\n",
    "        x = int(center + radius*np.cos(angle))\n",
    "        y = int(center + radius*np.sin(angle))\n",
    "\n",
    "        # Calculate detectors placements for each emiiter \n",
    "        for d_i in range(detectors_number):\n",
    "            # Detector coordinates\n",
    "            x_d = int(center + radius*np.cos(angle + np.pi - span_rad/2 + (d_i*span_rad)/(detectors_number-1)))\n",
    "            y_d = int(center + radius*np.sin(angle + np.pi - span_rad/2 + (d_i*span_rad)/(detectors_number-1)))\n",
    "\n",
    "            # Ray between emitter and detector\n",
    "            bresenham_points = bresenhamAlgorithm(x, y, x_d, y_d)\n",
    "            \n",
    "            # Calculate sinogram single point\n",
    "            total_intensity = np.mean([bitmap[x_b, y_b] for x_b, y_b in bresenham_points if 0 <= x < size and 0 <= y < size])\n",
    "            sinogram[a_i, d_i] = total_intensity\n",
    "        singoram_steps.append(sinogram.copy())\n",
    "            \n",
    "\n",
    "    return sinogram, bitmap.shape[0]"
   ]
  },
  {
   "cell_type": "markdown",
   "metadata": {},
   "source": [
    "### Filtrowanie\n",
    "Zastosowana konwolucja z domyślą maską (jądrem) 21"
   ]
  },
  {
   "cell_type": "code",
   "execution_count": 22,
   "metadata": {},
   "outputs": [],
   "source": [
    "def filtering(bitmap, kernel_size = 21):\n",
    "    # Ensure that the kernel size is odd\n",
    "    if kernel_size%2==0:\n",
    "        kernel_size += 1\n",
    "    kernel = np.zeros(kernel_size)\t\n",
    "\n",
    "    # Calculate middle index (kernel is indexed from -k to k są the middle index is k=0)\n",
    "    middle_idx = kernel_size//2\n",
    "    kernel[middle_idx] = 1\n",
    "\n",
    "    # Calculate kernel values for negative k:\n",
    "    # h[k] = 0, if k is even\n",
    "    # h[k] = (-4/pi^2)/k^2, if k is odd\n",
    "    for i in range(1, middle_idx, 2):\n",
    "        kernel[i] = (-4/(np.pi**2)) / ((i-middle_idx)**2) \n",
    "\n",
    "    # Mirror first half of kernel into the second half\n",
    "    kernel[-middle_idx:] = kernel[:middle_idx][::-1]\n",
    "\n",
    "    # Use convolution\n",
    "    for it, i in enumerate(bitmap):\n",
    "        bitmap[it] = np.convolve(i, kernel, mode='same')\n",
    "    return bitmap"
   ]
  },
  {
   "cell_type": "markdown",
   "metadata": {},
   "source": [
    "### Odwrotna transformata Radona\n",
    "Wykonana analogicznie do transformaty Radona i pozwala na wstępne odtworzenie obrazu oryginalnego"
   ]
  },
  {
   "cell_type": "code",
   "execution_count": 23,
   "metadata": {},
   "outputs": [],
   "source": [
    "def inverseRadonTransform(sinogram, resized_size, detectors_span):\n",
    "    global inverse_radon_steps\n",
    "    inverse_radon_steps = []\n",
    "    step = FULL_SCAN_ANGLE/sinogram.shape[0]\n",
    "    detectors_number = sinogram.shape[1]\n",
    "\n",
    "    center = resized_size//2\n",
    "    radius = resized_size//2 - 1\n",
    "\n",
    "    angles = np.deg2rad(np.arange(0,FULL_SCAN_ANGLE,step))\n",
    "    span_rad = np.deg2rad(detectors_span)\n",
    "\n",
    "    result_image = np.zeros((resized_size, resized_size), dtype=sinogram.dtype)\n",
    "\n",
    "    for a_i, angle in enumerate(angles):\n",
    "        # Emitter coordinates\n",
    "        x = int(center + radius*np.cos(angle))\n",
    "        y = int(center + radius*np.sin(angle))\n",
    "\n",
    "        for d_i in range(detectors_number):\n",
    "            # Detector coordinates\n",
    "            x_d = int(center + radius*np.cos(angle + np.pi - span_rad/2 + (d_i*span_rad)/(detectors_number-1)))\n",
    "            y_d = int(center + radius*np.sin(angle + np.pi - span_rad/2 + (d_i*span_rad)/(detectors_number-1)))\n",
    "\n",
    "            # Ray between emitter and detector\n",
    "            bresenham_points = bresenhamAlgorithm(x, y, x_d, y_d)\n",
    "\n",
    "            # Calculate sinogram single point\n",
    "            for x_b, y_b in bresenham_points:\n",
    "                if 0 <= x_b < resized_size and 0 <= y_b < resized_size:\n",
    "                    result_image[x_b, y_b] += sinogram[a_i, d_i]\n",
    "        inverse_radon_steps.append(result_image.copy())\n",
    "    return result_image"
   ]
  },
  {
   "cell_type": "markdown",
   "metadata": {},
   "source": [
    "### Przywrócenie oryginalnego rozmiaru obrazu"
   ]
  },
  {
   "cell_type": "code",
   "execution_count": 24,
   "metadata": {},
   "outputs": [],
   "source": [
    "def cropToOriginal(resized_bitmap, a, b):\n",
    "    size = resized_bitmap.shape[0]  # Square size\n",
    "\n",
    "    # Compute the offsets used during centering\n",
    "    start_x = (size - a) // 2\n",
    "    start_y = (size - b) // 2\n",
    "\n",
    "    # Crop the image back to the original size\n",
    "    cropped_bitmap = resized_bitmap[start_x:start_x + a, start_y:start_y + b]\n",
    "\n",
    "    return cropped_bitmap"
   ]
  },
  {
   "cell_type": "markdown",
   "metadata": {},
   "source": [
    "### Normalizacja obrazu wynikowego\n",
    "Usunięcie ujemnych wartości i przeskalowanie go do zakresu [0,1] na podstawie 99.9. percentyla wartości pikseli"
   ]
  },
  {
   "cell_type": "code",
   "execution_count": 25,
   "metadata": {},
   "outputs": [],
   "source": [
    "def normalizeImage(bitmap):\n",
    "    bitmap = np.maximum(bitmap, 0)  # Remove negative values\n",
    "    max_val = np.quantile(bitmap, 0.999)  # Use the 99.9th percentile for scaling\n",
    "    bitmap = np.clip(bitmap / max_val, 0, 1) if max_val > 0 else np.zeros_like(bitmap)\n",
    "    return bitmap"
   ]
  },
  {
   "cell_type": "markdown",
   "metadata": {},
   "source": [
    "### Obliczenie błędu średniokwadratowego"
   ]
  },
  {
   "cell_type": "code",
   "execution_count": 26,
   "metadata": {},
   "outputs": [],
   "source": [
    "def rootMeanSquaredError(img1, img2):\n",
    "    if img1.shape != img2.shape:\n",
    "        raise ValueError(\"Obrazy muszą mieć ten sam rozmiar\")\n",
    "    \n",
    "    # Obliczanie RMSE\n",
    "    rmse = (np.mean((img1 - img2) ** 2))**0.5\n",
    "    return rmse"
   ]
  },
  {
   "cell_type": "markdown",
   "metadata": {},
   "source": [
    "### Przykłady działania symulatora"
   ]
  },
  {
   "cell_type": "code",
   "execution_count": 27,
   "metadata": {},
   "outputs": [
    {
     "ename": "KeyboardInterrupt",
     "evalue": "",
     "output_type": "error",
     "traceback": [
      "\u001b[31m---------------------------------------------------------------------------\u001b[39m",
      "\u001b[31mKeyboardInterrupt\u001b[39m                         Traceback (most recent call last)",
      "\u001b[36mCell\u001b[39m\u001b[36m \u001b[39m\u001b[32mIn[27]\u001b[39m\u001b[32m, line 12\u001b[39m\n\u001b[32m      9\u001b[39m detectors_span = \u001b[32m180\u001b[39m\n\u001b[32m     10\u001b[39m detectors_number = \u001b[32m180\u001b[39m\n\u001b[32m---> \u001b[39m\u001b[32m12\u001b[39m sinogram, resized_shape = \u001b[43mradonTransform\u001b[49m\u001b[43m(\u001b[49m\u001b[43mbitmap\u001b[49m\u001b[43m,\u001b[49m\u001b[43m \u001b[49m\u001b[43mstep\u001b[49m\u001b[43m,\u001b[49m\u001b[43m \u001b[49m\u001b[43mdetectors_span\u001b[49m\u001b[43m,\u001b[49m\u001b[43m \u001b[49m\u001b[43mdetectors_number\u001b[49m\u001b[43m)\u001b[49m\n\u001b[32m     14\u001b[39m inversed_bitmap = inverseRadonTransform(sinogram, resized_shape, detectors_span)\n\u001b[32m     15\u001b[39m inversed_bitmap = cropToOriginal(inversed_bitmap, original_shape_a, original_shape_b)\n",
      "\u001b[36mCell\u001b[39m\u001b[36m \u001b[39m\u001b[32mIn[21]\u001b[39m\u001b[32m, line 30\u001b[39m, in \u001b[36mradonTransform\u001b[39m\u001b[34m(bitmap, step, detectors_span, detectors_number)\u001b[39m\n\u001b[32m     27\u001b[39m     bresenham_points = bresenhamAlgorithm(x, y, x_d, y_d)\n\u001b[32m     29\u001b[39m     \u001b[38;5;66;03m# Calculate sinogram single point\u001b[39;00m\n\u001b[32m---> \u001b[39m\u001b[32m30\u001b[39m     total_intensity = np.mean([bitmap[x_b, y_b] \u001b[38;5;28;01mfor\u001b[39;00m x_b, y_b \u001b[38;5;129;01min\u001b[39;00m bresenham_points \u001b[38;5;28;01mif\u001b[39;00m \u001b[32m0\u001b[39m <= x < size \u001b[38;5;129;01mand\u001b[39;00m \u001b[32m0\u001b[39m <= y < size])\n\u001b[32m     31\u001b[39m     sinogram[a_i, d_i] = total_intensity\n\u001b[32m     32\u001b[39m singoram_steps.append(sinogram.copy())\n",
      "\u001b[31mKeyboardInterrupt\u001b[39m: "
     ]
    }
   ],
   "source": [
    "# First example\n",
    "# Simple jpg to jpg\n",
    "\n",
    "bitmap = turnSingleJpgIntoBitmap('Kropka.jpg')\n",
    "original_shape_a = bitmap.shape[0]\n",
    "original_shape_b = bitmap.shape[1]\n",
    "\n",
    "step = 2\n",
    "detectors_span = 180\n",
    "detectors_number = 180\n",
    "\n",
    "sinogram, resized_shape = radonTransform(bitmap, step, detectors_span, detectors_number)\n",
    "\n",
    "inversed_bitmap = inverseRadonTransform(sinogram, resized_shape, detectors_span)\n",
    "inversed_bitmap = cropToOriginal(inversed_bitmap, original_shape_a, original_shape_b)\n",
    "normalized_inversed_bitmap = normalizeImage(inversed_bitmap)\n",
    "\n",
    "sinogram_cp = sinogram.copy()\n",
    "sinogram_filtered = filtering(sinogram_cp, 21)\n",
    "\n",
    "inversed_bitmap_filtered = inverseRadonTransform(sinogram_filtered, resized_shape, detectors_span)\n",
    "inversed_bitmap_filtered = cropToOriginal(inversed_bitmap_filtered, original_shape_a, original_shape_b)\n",
    "normalized_inversed_bitmap_filtered = normalizeImage(inversed_bitmap_filtered)\n",
    "\n",
    "plt.figure(figsize=(5, 5))\n",
    "plt.suptitle(\"First example\", fontsize=14, fontweight='bold')\n",
    "plt.imshow(bitmap, cmap='gray')\n",
    "plt.title(\"Original image\")\n",
    "plt.axis(\"off\")\n",
    "plt.show()\n",
    "\n",
    "fig, axes = plt.subplots(1, 2, figsize=(10, 5))\n",
    "\n",
    "axes[0].imshow(sinogram, cmap='gray', aspect='auto')\n",
    "axes[0].set_title(\"Sinogram (no filter)\")\n",
    "axes[0].axis(\"off\")\n",
    "\n",
    "axes[1].imshow(sinogram_filtered, cmap='gray', aspect='auto')\n",
    "axes[1].set_title(\"Sinogram (filter)\")\n",
    "axes[1].axis(\"off\")\n",
    "\n",
    "plt.show()\n",
    "\n",
    "fig, axes = plt.subplots(1, 2, figsize=(10, 5))\n",
    "\n",
    "axes[0].imshow(normalized_inversed_bitmap, cmap='gray')\n",
    "axes[0].set_title(\"Recreated image (no filter)\")\n",
    "axes[0].axis(\"off\")\n",
    "\n",
    "axes[1].imshow(normalized_inversed_bitmap_filtered, cmap='gray')\n",
    "axes[1].set_title(\"Recreated image (filter)\")\n",
    "axes[1].axis(\"off\")\n",
    "\n",
    "plt.show()\n",
    "\n",
    "saveBitmapAsJpg(normalized_inversed_bitmap, \"example1_nofilter.jpg\")\n",
    "saveBitmapAsJpg(normalized_inversed_bitmap_filtered, \"example1_filter.jpg\")\n",
    "\n",
    "# Second example\n",
    "# More complicated dicom to dicom\n",
    "bitmap = turnSingleDicomIntoBitmap('shepp_logan.dcm')\n",
    "original_shape_a = bitmap.shape[0]\n",
    "original_shape_b = bitmap.shape[1]\n",
    "\n",
    "step = 1\n",
    "detectors_span = 270\n",
    "detectors_number = 360\n",
    "\n",
    "sinogram, resized_shape = radonTransform(bitmap, step, detectors_span, detectors_number)\n",
    "\n",
    "inversed_bitmap = inverseRadonTransform(sinogram, resized_shape, detectors_span)\n",
    "inversed_bitmap = cropToOriginal(inversed_bitmap, original_shape_a, original_shape_b)\n",
    "normalized_inversed_bitmap = normalizeImage(inversed_bitmap)\n",
    "\n",
    "sinogram_cp = sinogram.copy()\n",
    "sinogram_filtered = filtering(sinogram_cp, 21)\n",
    "\n",
    "inversed_bitmap_filtered = inverseRadonTransform(sinogram_filtered, resized_shape, detectors_span)\n",
    "inversed_bitmap_filtered = cropToOriginal(inversed_bitmap_filtered, original_shape_a, original_shape_b)\n",
    "normalized_inversed_bitmap_filtered = normalizeImage(inversed_bitmap_filtered)\n",
    "\n",
    "plt.figure(figsize=(5, 5))\n",
    "plt.suptitle(\"Second example\", fontsize=14, fontweight='bold')\n",
    "plt.imshow(bitmap, cmap='gray')\n",
    "plt.title(\"Original image\")\n",
    "plt.axis(\"off\")\n",
    "plt.show()\n",
    "\n",
    "fig, axes = plt.subplots(1, 2, figsize=(10, 5))\n",
    "\n",
    "axes[0].imshow(sinogram, cmap='gray', aspect='auto')\n",
    "axes[0].set_title(\"Sinogram (no filter)\")\n",
    "axes[0].axis(\"off\")\n",
    "\n",
    "axes[1].imshow(sinogram_filtered, cmap='gray', aspect='auto')\n",
    "axes[1].set_title(\"Sinogram (filter)\")\n",
    "axes[1].axis(\"off\")\n",
    "\n",
    "plt.show()\n",
    "\n",
    "fig, axes = plt.subplots(1, 2, figsize=(10, 5))\n",
    "\n",
    "axes[0].imshow(normalized_inversed_bitmap, cmap='gray')\n",
    "axes[0].set_title(\"Recreated image (no filter)\")\n",
    "axes[0].axis(\"off\")\n",
    "\n",
    "axes[1].imshow(normalized_inversed_bitmap_filtered, cmap='gray')\n",
    "axes[1].set_title(\"Recreated image (filter)\")\n",
    "axes[1].axis(\"off\")\n",
    "\n",
    "plt.show()\n",
    "\n",
    "saveBitmapAsDicom((normalized_inversed_bitmap * 65535).astype(np.uint16), \"example2_nofilter.dcm\", \"Stefan Batory\", \"1122334455\", \"15.01.2025\", \"No filter\")\n",
    "saveBitmapAsDicom((normalized_inversed_bitmap_filtered * 65535).astype(np.uint16), \"example2_filter.dcm\", \"Stefan Batory\", \"6677889900\", \"15.01.2025\", \"Filter\")"
   ]
  },
  {
   "cell_type": "markdown",
   "metadata": {},
   "source": [
    "### Badanie wpływu poszczególnych parametrów na jakoś obrazu wynikowego\n",
    "* Liczba detektorów\n",
    "* Liczba skanów\n",
    "* Rozpiętość wachlarza\n",
    "* Filtrowanie"
   ]
  },
  {
   "cell_type": "code",
   "execution_count": null,
   "metadata": {},
   "outputs": [
    {
     "ename": "KeyboardInterrupt",
     "evalue": "",
     "output_type": "error",
     "traceback": [
      "\u001b[31m---------------------------------------------------------------------------\u001b[39m",
      "\u001b[31mKeyboardInterrupt\u001b[39m                         Traceback (most recent call last)",
      "\u001b[36mCell\u001b[39m\u001b[36m \u001b[39m\u001b[32mIn[39]\u001b[39m\u001b[32m, line 20\u001b[39m\n\u001b[32m     16\u001b[39m sinogram, resized_shape = radonTransform(bitmap, default_step, default_detectors_span, detectors_number)\n\u001b[32m     18\u001b[39m sinogram = filtering(sinogram, \u001b[32m21\u001b[39m)\n\u001b[32m---> \u001b[39m\u001b[32m20\u001b[39m inversed_bitmap = \u001b[43minverseRadonTransform\u001b[49m\u001b[43m(\u001b[49m\u001b[43msinogram\u001b[49m\u001b[43m,\u001b[49m\u001b[43m \u001b[49m\u001b[43mresized_shape\u001b[49m\u001b[43m,\u001b[49m\u001b[43m \u001b[49m\u001b[43mdefault_detectors_span\u001b[49m\u001b[43m)\u001b[49m\n\u001b[32m     21\u001b[39m inversed_bitmap = cropToOriginal(inversed_bitmap, original_shape_a, original_shape_b)\n\u001b[32m     22\u001b[39m normalized_inversed_bitmap = normalizeImage(inversed_bitmap)\n",
      "\u001b[36mCell\u001b[39m\u001b[36m \u001b[39m\u001b[32mIn[34]\u001b[39m\u001b[32m, line 31\u001b[39m, in \u001b[36minverseRadonTransform\u001b[39m\u001b[34m(sinogram, resized_size, detectors_span)\u001b[39m\n\u001b[32m     29\u001b[39m         \u001b[38;5;28;01mfor\u001b[39;00m x_b, y_b \u001b[38;5;129;01min\u001b[39;00m bresenham_points:\n\u001b[32m     30\u001b[39m             \u001b[38;5;28;01mif\u001b[39;00m \u001b[32m0\u001b[39m <= x_b < resized_size \u001b[38;5;129;01mand\u001b[39;00m \u001b[32m0\u001b[39m <= y_b < resized_size:\n\u001b[32m---> \u001b[39m\u001b[32m31\u001b[39m                 result_image[x_b, y_b] += sinogram[a_i, d_i]\n\u001b[32m     32\u001b[39m     inverse_radon_steps.append(result_image.copy())\n\u001b[32m     33\u001b[39m \u001b[38;5;28;01mreturn\u001b[39;00m result_image\n",
      "\u001b[31mKeyboardInterrupt\u001b[39m: "
     ]
    }
   ],
   "source": [
    "bitmap = turnSingleDicomIntoBitmap('shepp_logan.dcm')\n",
    "original_shape_a = bitmap.shape[0]\n",
    "original_shape_b = bitmap.shape[1]\n",
    "\n",
    "default_scans_number = 180\n",
    "default_step = FULL_SCAN_ANGLE/default_scans_number\n",
    "default_detectors_span = 180\n",
    "default_detectors_number = 180\n",
    "\n",
    "# RMSE for different numbers of detectors\n",
    "\n",
    "detectors_range = range(90, 721, 90)\n",
    "rmse_detectors = []\n",
    "\n",
    "for detectors_number in detectors_range:\n",
    "    sinogram, resized_shape = radonTransform(bitmap, default_step, default_detectors_span, detectors_number)\n",
    "\n",
    "    sinogram = filtering(sinogram, 21)\n",
    "\n",
    "    inversed_bitmap = inverseRadonTransform(sinogram, resized_shape, default_detectors_span)\n",
    "    inversed_bitmap = cropToOriginal(inversed_bitmap, original_shape_a, original_shape_b)\n",
    "    normalized_inversed_bitmap = normalizeImage(inversed_bitmap)\n",
    "\n",
    "    rmse_detectors.append(rootMeanSquaredError(bitmap, normalized_inversed_bitmap))\n",
    "\n",
    "plt.plot(detectors_range, rmse_detectors)\n",
    "plt.xlabel('Number of Detectors')\n",
    "plt.ylabel('Root Mean Squared Error')\n",
    "plt.title('RMSE vs. Number of Detectors')\n",
    "plt.grid(True)\n",
    "plt.show()\n",
    "\n",
    "# RMSE for different numbers of scans\n",
    "\n",
    "scans_range = range(90, 721, 90)\n",
    "rmse_scans = []\n",
    "\n",
    "for scans_number in scans_range:\n",
    "    step = FULL_SCAN_ANGLE/scans_number\n",
    "\n",
    "    sinogram, resized_shape = radonTransform(bitmap, step, default_detectors_span, default_detectors_number)\n",
    "\n",
    "    sinogram = filtering(sinogram, 21)\n",
    "\n",
    "    inversed_bitmap = inverseRadonTransform(sinogram, resized_shape, default_detectors_span)\n",
    "    inversed_bitmap = cropToOriginal(inversed_bitmap, original_shape_a, original_shape_b)\n",
    "    normalized_inversed_bitmap = normalizeImage(inversed_bitmap)\n",
    "\n",
    "    rmse_scans.append(rootMeanSquaredError(bitmap, normalized_inversed_bitmap))\n",
    "\n",
    "plt.plot(scans_range, rmse_scans)\n",
    "plt.xlabel('Number of Scans')\n",
    "plt.ylabel('Root Mean Squared Error')\n",
    "plt.title('RMSE vs. Number of Scans')\n",
    "plt.grid(True)\n",
    "plt.show()\n",
    "\n",
    "# RMSE for different detectors spans\n",
    "\n",
    "span_range = range(45, 271, 45)\n",
    "rmse_span = []\n",
    "\n",
    "for span in span_range:\n",
    "    sinogram, resized_shape = radonTransform(bitmap, default_step, span, default_detectors_number)\n",
    "\n",
    "    sinogram = filtering(sinogram, 21)\n",
    "\n",
    "    inversed_bitmap = inverseRadonTransform(sinogram, resized_shape, span)\n",
    "    inversed_bitmap = cropToOriginal(inversed_bitmap, original_shape_a, original_shape_b)\n",
    "    normalized_inversed_bitmap = normalizeImage(inversed_bitmap)\n",
    "\n",
    "    rmse_span.append(rootMeanSquaredError(bitmap, normalized_inversed_bitmap))\n",
    "\n",
    "plt.plot(span_range, rmse_span)\n",
    "plt.xlabel('Detectors Span')\n",
    "plt.ylabel('Root Mean Squared Error')\n",
    "plt.title('RMSE vs. Detectors Span')\n",
    "plt.grid(True)\n",
    "plt.show()\n",
    "\n",
    "\n",
    "# Filter usage influance for simple image\n",
    "\n",
    "bitmap = turnSingleDicomIntoBitmap('Kwadraty2.dcm')\n",
    "original_shape_a = bitmap.shape[0]\n",
    "original_shape_b = bitmap.shape[1]\n",
    "\n",
    "step = 1\n",
    "detectors_span = 270\n",
    "detectors_number = 360\n",
    "\n",
    "sinogram, resized_shape = radonTransform(bitmap, step, detectors_span, detectors_number)\n",
    "\n",
    "inversed_bitmap = inverseRadonTransform(sinogram, resized_shape, detectors_span)\n",
    "inversed_bitmap = cropToOriginal(inversed_bitmap, original_shape_a, original_shape_b)\n",
    "normalized_inversed_bitmap = normalizeImage(inversed_bitmap)\n",
    "\n",
    "sinogram_cp = sinogram.copy()\n",
    "sinogram_filtered = filtering(sinogram_cp, 21)\n",
    "\n",
    "inversed_bitmap_filtered = inverseRadonTransform(sinogram_filtered, resized_shape, detectors_span)\n",
    "inversed_bitmap_filtered = cropToOriginal(inversed_bitmap_filtered, original_shape_a, original_shape_b)\n",
    "normalized_inversed_bitmap_filtered = normalizeImage(inversed_bitmap_filtered)\n",
    "\n",
    "rmse_no_filter = rootMeanSquaredError(bitmap, normalized_inversed_bitmap)\n",
    "rmse_filter = rootMeanSquaredError(bitmap, normalized_inversed_bitmap_filtered)\n",
    "\n",
    "print('Simple image filter influence')\n",
    "print(f'RMSE without filter: {rmse_no_filter}, RMSE with filter: {rmse_filter}\\n')\n",
    "\n",
    "# Filter usage influance for complex image\n",
    "\n",
    "bitmap = turnSingleDicomIntoBitmap('shepp_logan.dcm')\n",
    "original_shape_a = bitmap.shape[0]\n",
    "original_shape_b = bitmap.shape[1]\n",
    "\n",
    "step = 1\n",
    "detectors_span = 270\n",
    "detectors_number = 360\n",
    "\n",
    "sinogram, resized_shape = radonTransform(bitmap, step, detectors_span, detectors_number)\n",
    "\n",
    "inversed_bitmap = inverseRadonTransform(sinogram, resized_shape, detectors_span)\n",
    "inversed_bitmap = cropToOriginal(inversed_bitmap, original_shape_a, original_shape_b)\n",
    "normalized_inversed_bitmap = normalizeImage(inversed_bitmap)\n",
    "\n",
    "sinogram_cp = sinogram.copy()\n",
    "sinogram_filtered = filtering(sinogram_cp, 21)\n",
    "\n",
    "inversed_bitmap_filtered = inverseRadonTransform(sinogram_filtered, resized_shape, detectors_span)\n",
    "inversed_bitmap_filtered = cropToOriginal(inversed_bitmap_filtered, original_shape_a, original_shape_b)\n",
    "normalized_inversed_bitmap_filtered = normalizeImage(inversed_bitmap_filtered)\n",
    "\n",
    "rmse_no_filter = rootMeanSquaredError(bitmap, normalized_inversed_bitmap)\n",
    "rmse_filter = rootMeanSquaredError(bitmap, normalized_inversed_bitmap_filtered)\n",
    "\n",
    "print('Complex image filter influence')\n",
    "print(f'RMSE without filter: {rmse_no_filter}, RMSE with filter: {rmse_filter}\\n')\n"
   ]
  },
  {
   "cell_type": "markdown",
   "metadata": {},
   "source": [
    "* Liczba detektorów <br>\n",
    "Obliczenia RMSE zgadzają się z subiektywną oceną obrazu. Zwiększanie liczby detektorów powoduje coraz mocniejsze rozświetlenie obrazu i coraz widoczniejsze stają się promienie dookoła oryginalnego obrazu. Zmiana obróbki finalnego obrazu mogłaby pomóc z tym problemem, jednak przy obecnej implementacji lepiej sprawdzają się mniejsze liczby detektorów (do minimalnej wartości 90, gdyż poniżej tej wartości obrazy stają się już niewyraźne).\n",
    "\n",
    "* Liczba skanów <br>\n",
    "Subiektywnie obrazy są bardzo zbliżone do siebie (poza wyraźnie gorszym obrazem dla minimalnej liczby skanów - 90). Ciężko więc zobaczyć zależność RMSE wynikającą z obliczeń.\n",
    "\n",
    "* Rozpiętość wachlarza <br>\n",
    "Zwiększanie rozpiętości wachlarza wyraźnie poprawia jakość wynikowego obrazu. Przy wartościach poniżej 180 nie widać nawet wszystkich szczegółów obrazu. Obserwacje te są zgodne z obliczonymi wartościami RMSE.\n",
    "\n",
    "* Filtracja <br>\n",
    "Filtrowanie obrazu wyraźnie poprawia jakość wynikowego obrazu. Dla prostych obrazów brak filtracji powoduje, że obraz staje się nieostry. Dla bardziej skomplikowanych obrazów, jeżeli nie zastosowano filtracji, to obraz staje się bardzo niewyraźny. Obserwacje te są zgodne z obliczonymi wartościami RMSE"
   ]
  },
  {
   "cell_type": "markdown",
   "metadata": {},
   "source": [
    "### Deklaracja interfejsu do obsługi symolatora tomografu komputerowego"
   ]
  },
  {
   "cell_type": "markdown",
   "metadata": {},
   "source": [
    "### Aplikacja interaktywna"
   ]
  },
  {
   "cell_type": "code",
   "execution_count": null,
   "metadata": {},
   "outputs": [],
   "source": [
    "output_widget = widgets.Output()\n",
    "\n",
    "def main(data):\n",
    "    bitmap_output = widgets.Output()\n",
    "    sinogram_output = widgets.Output()\n",
    "    inverse_output = widgets.Output()\n",
    "    filter_output = widgets.Output()\n",
    "\n",
    "    bitmap = turnSingleDicomIntoBitmap(data[\"input_file\"])\n",
    "\n",
    "    original_shape_a = bitmap.shape[0]\n",
    "    original_shape_b = bitmap.shape[1]\n",
    "\n",
    "    #show simple bitmap\n",
    "    with bitmap_output:\n",
    "        fig, ax = plt.subplots(facecolor='white', figsize=(6, 4))\n",
    "        ax.set_facecolor('white')                  # White plot area\n",
    "        ax.imshow(bitmap, cmap='gray')           # Your image\n",
    "        ax.set_title(\"Original bitmap\")\n",
    "        plt.show()\n",
    "    \n",
    "    #generate sinogram\n",
    "    sinogram, resized_shape = radonTransform(bitmap=bitmap, step=data[\"step\"], detectors_span=data[\"divergence\"], detectors_number=data[\"num_detectors\"])\n",
    "    # display(bitmap_output)\n",
    "    # display(sinogram_output)\n",
    "    # display(inverse_output)\n",
    "    container = widgets.HBox([bitmap_output, sinogram_output, inverse_output, filter_output], layout=widgets.Layout(width='100%', overflow='hidden', justify_content='space-between'))\n",
    "    container.layout.overflow = 'visible'\n",
    "    display(container)\n",
    "    #add animation\n",
    "    def plot_animation(data, text):\n",
    "        fig, ax = plt.subplots()\n",
    "        img = ax.imshow(data[0], cmap='gray', aspect='auto')\n",
    "        ax.set_title(f\"{text} Progression\")\n",
    "        def update(i):\n",
    "            img.set_array(data[i])\n",
    "            ax.set_title(f\"{text} Step {i+1}\")\n",
    "        ani = anim.FuncAnimation(fig, update, frames=len(data), repeat=False)\n",
    "        return ani\n",
    "    \n",
    "    #handle animation/single sinogram display\n",
    "    with sinogram_output:\n",
    "        if data['show_steps']:    \n",
    "            ani = plot_animation(singoram_steps[:-1:2], \"Sinogram\")\n",
    "            display(HTML(ani.to_jshtml()))\n",
    "            plt.imshow(sinogram, cmap='gray', aspect='auto')\n",
    "            plt.title(\"Sinogram\")\n",
    "            plt.tight_layout()\n",
    "            plt.show() \n",
    "        else:\n",
    "            plt.imshow(sinogram, cmap='gray', aspect='auto')\n",
    "            plt.title(\"Sinogram\")\n",
    "            plt.tight_layout()\n",
    "            plt.show() \n",
    "\n",
    "    #add filtering\n",
    "    if data[\"use_filtering\"]:\n",
    "        sinogram = filtering(sinogram, 21)\n",
    "        with filter_output:\n",
    "            plt.imshow(sinogram, cmap='gray', aspect='auto')\n",
    "            plt.title(\"Filtered Sinogram\")\n",
    "            plt.tight_layout()\n",
    "            plt.show()\n",
    "    \n",
    "    #generate inversed bitmap\n",
    "    inversed_bitmap = inverseRadonTransform(sinogram, resized_shape, detectors_span=data[\"divergence\"])\n",
    "    inversed_bitmap = cropToOriginal(inversed_bitmap, original_shape_a, original_shape_b)\n",
    "    normalized_inversed_bitmap = normalizeImage(inversed_bitmap)\n",
    "    \n",
    "    #show chart with reconstructed bitmap\n",
    "    with inverse_output: \n",
    "        if data[\"inverse_steps\"]:\n",
    "            all_inverse = []\n",
    "            for step in inverse_radon_steps[:-1:2]:\n",
    "                step = cropToOriginal(step, original_shape_a, original_shape_b)\n",
    "                step = normalizeImage(step)\n",
    "                all_inverse.append(step)\n",
    "            ani_inverse = plot_animation(all_inverse, \"Inverse radon transform\")\n",
    "            display(HTML(ani_inverse.to_jshtml()))\n",
    "            plt.imshow(normalized_inversed_bitmap, cmap='gray')\n",
    "            plt.title(\"Reconstructed Bitmap\")\n",
    "            plt.tight_layout()\n",
    "            plt.show()\n",
    "        else:\n",
    "            plt.imshow(normalized_inversed_bitmap, cmap='gray')\n",
    "            plt.title(\"Reconstructed Bitmap\")\n",
    "            plt.tight_layout()\n",
    "            plt.show()\n",
    "\n",
    "    # saveBitmapAsJpg(normalized_inversed_bitmap, \"test.jpg\")\n",
    "    saveBitmapAsDicom((normalized_inversed_bitmap * 65535).astype(np.uint16), data[\"output_file\"], data[\"patient_name\"], data[\"patient_id\"], data[\"date\"], data[\"comment\"])"
   ]
  },
  {
   "cell_type": "code",
   "execution_count": null,
   "metadata": {},
   "outputs": [
    {
     "data": {
      "application/vnd.jupyter.widget-view+json": {
       "model_id": "3d617279b6014f9f955599dd716dbfa6",
       "version_major": 2,
       "version_minor": 0
      },
      "text/plain": [
       "HTML(value='<p><b>Provide technical parameters</b></p>')"
      ]
     },
     "metadata": {},
     "output_type": "display_data"
    },
    {
     "data": {
      "application/vnd.jupyter.widget-view+json": {
       "model_id": "03a64e4cae6f457bb8fce0765efc4280",
       "version_major": 2,
       "version_minor": 0
      },
      "text/plain": [
       "FloatSlider(value=2.0, max=4.0, min=0.5, step=0.25)"
      ]
     },
     "metadata": {},
     "output_type": "display_data"
    },
    {
     "data": {
      "application/vnd.jupyter.widget-view+json": {
       "model_id": "2365f827987c45b5980f2e515d21098c",
       "version_major": 2,
       "version_minor": 0
      },
      "text/plain": [
       "HTML(value='<p><b>Number of detectors</b></p>')"
      ]
     },
     "metadata": {},
     "output_type": "display_data"
    },
    {
     "data": {
      "application/vnd.jupyter.widget-view+json": {
       "model_id": "315da765a21847a7995025a0e4b44a50",
       "version_major": 2,
       "version_minor": 0
      },
      "text/plain": [
       "IntSlider(value=180, max=720, min=90, step=90)"
      ]
     },
     "metadata": {},
     "output_type": "display_data"
    },
    {
     "data": {
      "application/vnd.jupyter.widget-view+json": {
       "model_id": "cf14fa2bb8cd40c598b6abf104af7673",
       "version_major": 2,
       "version_minor": 0
      },
      "text/plain": [
       "HTML(value='<p><b>Divergence/span</b></p>')"
      ]
     },
     "metadata": {},
     "output_type": "display_data"
    },
    {
     "data": {
      "application/vnd.jupyter.widget-view+json": {
       "model_id": "0064e66b81c940b6b11698c5d5240735",
       "version_major": 2,
       "version_minor": 0
      },
      "text/plain": [
       "IntSlider(value=180, max=270, min=45, step=45)"
      ]
     },
     "metadata": {},
     "output_type": "display_data"
    },
    {
     "data": {
      "application/vnd.jupyter.widget-view+json": {
       "model_id": "41b3360b2c2245f3b9ec5f5ed762cae9",
       "version_major": 2,
       "version_minor": 0
      },
      "text/plain": [
       "HTML(value='<p><b>Provide the name of the DICOM input file</b></p>')"
      ]
     },
     "metadata": {},
     "output_type": "display_data"
    },
    {
     "data": {
      "application/vnd.jupyter.widget-view+json": {
       "model_id": "a1df02a81a714254940f08a293197357",
       "version_major": 2,
       "version_minor": 0
      },
      "text/plain": [
       "Text(value='Kolo.dcm')"
      ]
     },
     "metadata": {},
     "output_type": "display_data"
    },
    {
     "data": {
      "application/vnd.jupyter.widget-view+json": {
       "model_id": "e793a79c6fef4cb085b71299cd4df7af",
       "version_major": 2,
       "version_minor": 0
      },
      "text/plain": [
       "HTML(value='<p><b>Provide DICOM file data</b></p>')"
      ]
     },
     "metadata": {},
     "output_type": "display_data"
    },
    {
     "data": {
      "application/vnd.jupyter.widget-view+json": {
       "model_id": "63e395a1db024deaa1d155b250f60a32",
       "version_major": 2,
       "version_minor": 0
      },
      "text/plain": [
       "Text(value='Name Surname', placeholder='Patient Name')"
      ]
     },
     "metadata": {},
     "output_type": "display_data"
    },
    {
     "data": {
      "application/vnd.jupyter.widget-view+json": {
       "model_id": "467b82ee13da4f5fb0506437fa8d0e68",
       "version_major": 2,
       "version_minor": 0
      },
      "text/plain": [
       "Text(value='10.10.2025', placeholder='Date')"
      ]
     },
     "metadata": {},
     "output_type": "display_data"
    },
    {
     "data": {
      "application/vnd.jupyter.widget-view+json": {
       "model_id": "0d299ddfc670454e8c53d11ca9a6b46d",
       "version_major": 2,
       "version_minor": 0
      },
      "text/plain": [
       "Text(value='Patient ID', placeholder='Patient ID')"
      ]
     },
     "metadata": {},
     "output_type": "display_data"
    },
    {
     "data": {
      "application/vnd.jupyter.widget-view+json": {
       "model_id": "aefade08ba454e5c93acbcda53aba607",
       "version_major": 2,
       "version_minor": 0
      },
      "text/plain": [
       "Text(value='Comment', placeholder='Comment')"
      ]
     },
     "metadata": {},
     "output_type": "display_data"
    },
    {
     "data": {
      "application/vnd.jupyter.widget-view+json": {
       "model_id": "ce501b0f047646d98dd3d76257e4f3d7",
       "version_major": 2,
       "version_minor": 0
      },
      "text/plain": [
       "Text(value='Output File', placeholder='Output file name')"
      ]
     },
     "metadata": {},
     "output_type": "display_data"
    },
    {
     "data": {
      "application/vnd.jupyter.widget-view+json": {
       "model_id": "4499941f168749c6921a2ab28c0d9200",
       "version_major": 2,
       "version_minor": 0
      },
      "text/plain": [
       "HTML(value='<p><b>Do You want to use filtering?</b></p>')"
      ]
     },
     "metadata": {},
     "output_type": "display_data"
    },
    {
     "data": {
      "application/vnd.jupyter.widget-view+json": {
       "model_id": "8c8252ab24da40c1ae84b34d9950fd17",
       "version_major": 2,
       "version_minor": 0
      },
      "text/plain": [
       "Checkbox(value=False, description='Use filtering')"
      ]
     },
     "metadata": {},
     "output_type": "display_data"
    },
    {
     "data": {
      "application/vnd.jupyter.widget-view+json": {
       "model_id": "e027fb136d9947089be7b303dc0a7d02",
       "version_major": 2,
       "version_minor": 0
      },
      "text/plain": [
       "HTML(value='<p><b>Do You want to show steps of radon transform?</b></p>')"
      ]
     },
     "metadata": {},
     "output_type": "display_data"
    },
    {
     "data": {
      "application/vnd.jupyter.widget-view+json": {
       "model_id": "2fdd19eb24904d81af94531303eb719c",
       "version_major": 2,
       "version_minor": 0
      },
      "text/plain": [
       "Checkbox(value=False, description='steps radon transform')"
      ]
     },
     "metadata": {},
     "output_type": "display_data"
    },
    {
     "data": {
      "application/vnd.jupyter.widget-view+json": {
       "model_id": "c8b1210b60414e9d9cae965b1a94a916",
       "version_major": 2,
       "version_minor": 0
      },
      "text/plain": [
       "HTML(value='<p><b>Do You want to show steps of radon transform inverse?</b></p>')"
      ]
     },
     "metadata": {},
     "output_type": "display_data"
    },
    {
     "data": {
      "application/vnd.jupyter.widget-view+json": {
       "model_id": "dc228be9bb2f4319b26d7139ffba569b",
       "version_major": 2,
       "version_minor": 0
      },
      "text/plain": [
       "Checkbox(value=False, description='steps inverse radon transform')"
      ]
     },
     "metadata": {},
     "output_type": "display_data"
    },
    {
     "data": {
      "application/vnd.jupyter.widget-view+json": {
       "model_id": "d3a6dc338a1c4a6194088be8346e6ac4",
       "version_major": 2,
       "version_minor": 0
      },
      "text/plain": [
       "Button(description='Submit', style=ButtonStyle())"
      ]
     },
     "metadata": {},
     "output_type": "display_data"
    },
    {
     "data": {
      "application/vnd.jupyter.widget-view+json": {
       "model_id": "30487781fdd14228bad768245f14b477",
       "version_major": 2,
       "version_minor": 0
      },
      "text/plain": [
       "Output()"
      ]
     },
     "metadata": {},
     "output_type": "display_data"
    }
   ],
   "source": [
    "def collect_data():\n",
    "    data = {\n",
    "        \"step\": widget_slider_step.value,\n",
    "        \"num_detectors\": widget_slider_n.value,\n",
    "        \"divergence\": widget_slider_span.value,\n",
    "        \"input_file\": text_widget_file.value,\n",
    "        \"patient_name\": text_widget_patient_name.value,\n",
    "        \"inverse_steps\": steps_checkbox_radon_transform_inverse.value,\n",
    "        \"date\": text_widget_date.value,\n",
    "        \"patient_id\": text_widget_patient_id.value,\n",
    "        \"comment\": text_widget_comment.value,\n",
    "        \"output_file\": text_widget_output_file.value,\n",
    "        \"use_filtering\": filter_checkbox.value,\n",
    "        \"show_steps\": steps_checkbox_radon_transform.value,\n",
    "    }\n",
    "\n",
    "    with output_widget:\n",
    "        output_widget.clear_output(wait=True)  # Clears output before updating\n",
    "        main(data)\n",
    "\n",
    "def add_interactive_ui():\n",
    "    global widget_slider_step, widget_slider_n, widget_slider_span\n",
    "    global text_widget_file, text_widget_patient_name, text_widget_date\n",
    "    global text_widget_patient_id, text_widget_comment, text_widget_output_file, filter_checkbox, steps_checkbox_radon_transform, steps_checkbox_radon_transform_inverse\n",
    "\n",
    "    display(widgets.HTML(value=\"<p><b>Provide technical parameters</b></p>\"))\n",
    "    widget_slider_step = widgets.FloatSlider(value=2, min=0.5, max=4, step=0.25, readout_format='.2f')\n",
    "    display(widget_slider_step)\n",
    "\n",
    "    display(widgets.HTML(value=\"<p><b>Number of detectors</b></p>\"))\n",
    "    widget_slider_n = widgets.IntSlider(value=180, min=90, max=720, step=90)\n",
    "    display(widget_slider_n)\n",
    "\n",
    "    display(widgets.HTML(value=\"<p><b>Divergence/span</b></p>\"))\n",
    "    widget_slider_span = widgets.IntSlider(value=180, min=45, max=270, step=45)\n",
    "    display(widget_slider_span)\n",
    "\n",
    "    display(widgets.HTML(value=\"<p><b>Provide the name of the DICOM input file</b></p>\"))\n",
    "    text_widget_file = widgets.Text(value='Kolo.dcm')\n",
    "    display(text_widget_file)\n",
    "    \n",
    "    display(widgets.HTML(value=\"<p><b>Provide DICOM file data</b></p>\"))\n",
    "    text_widget_patient_name = widgets.Text(value='Name Surname', placeholder='Patient Name')\n",
    "    text_widget_date = widgets.Text(value='10.10.2025', placeholder='Date')\n",
    "    text_widget_patient_id = widgets.Text(value='Patient ID', placeholder='Patient ID')\n",
    "    text_widget_comment = widgets.Text(value='Comment', placeholder='Comment')\n",
    "    text_widget_output_file = widgets.Text(value='Output File', placeholder='Output file name')\n",
    "    \n",
    "    filter_checkbox = widgets.Checkbox(value=False, description='Use filtering')\n",
    "    steps_checkbox_radon_transform = widgets.Checkbox(value=False, description='steps radon transform')\n",
    "    steps_checkbox_radon_transform_inverse = widgets.Checkbox(value=False, description='steps inverse radon transform')\n",
    "    submit_button = widgets.Button(description=\"Submit\")\n",
    "    submit_button.on_click(lambda _: collect_data())\n",
    "\n",
    "    display(text_widget_patient_name)\n",
    "    display(text_widget_date)\n",
    "    display(text_widget_patient_id)\n",
    "    display(text_widget_comment)\n",
    "    display(text_widget_output_file)\n",
    "    display(widgets.HTML(value=\"<p><b>Do You want to use filtering?</b></p>\"))\n",
    "    display(filter_checkbox)\n",
    "    display(widgets.HTML(value=\"<p><b>Do You want to show steps of radon transform?</b></p>\"))\n",
    "    display(steps_checkbox_radon_transform)\n",
    "    display(widgets.HTML(value=\"<p><b>Do You want to show steps of radon transform inverse?</b></p>\"))\n",
    "    display(steps_checkbox_radon_transform_inverse)\n",
    "    display(submit_button)\n",
    "    display(output_widget)\n",
    "\n",
    "\n",
    "add_interactive_ui()"
   ]
  }
 ],
 "metadata": {
  "kernelspec": {
   "display_name": "Python 3",
   "language": "python",
   "name": "python3"
  },
  "language_info": {
   "codemirror_mode": {
    "name": "ipython",
    "version": 3
   },
   "file_extension": ".py",
   "mimetype": "text/x-python",
   "name": "python",
   "nbconvert_exporter": "python",
   "pygments_lexer": "ipython3",
   "version": "3.13.1"
  }
 },
 "nbformat": 4,
 "nbformat_minor": 2
}
