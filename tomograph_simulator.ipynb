{
 "cells": [
  {
   "cell_type": "code",
   "execution_count": 77,
   "metadata": {},
   "outputs": [],
   "source": [
    "from PIL import Image\n",
    "import matplotlib.pyplot as plt\n",
    "import numpy as np \n",
    "import os\n",
    "import pydicom\n",
    "from pydicom.dataset import Dataset\n",
    "import ipywidgets as widgets\n",
    "from IPython.display import display\n",
    "import datetime\n",
    "import random\n",
    "FULL_SCAN_ANGLE = 360.0"
   ]
  },
  {
   "cell_type": "markdown",
   "metadata": {},
   "source": [
    "Funcition turns all .jpg files into bitmap format:"
   ]
  },
  {
   "cell_type": "code",
   "execution_count": 78,
   "metadata": {},
   "outputs": [],
   "source": [
    "def cutThirdDimension(bitmap):\n",
    "    if bitmap.ndim == 3:\n",
    "        return bitmap[..., 0]\n",
    "    else:\n",
    "        return bitmap"
   ]
  },
  {
   "cell_type": "code",
   "execution_count": 79,
   "metadata": {},
   "outputs": [],
   "source": [
    "def scaleBitmap(bitmap):\n",
    "    return bitmap/255.0"
   ]
  },
  {
   "cell_type": "code",
   "execution_count": 80,
   "metadata": {},
   "outputs": [],
   "source": [
    "def turnJpgIntoBitmap(directory):  \n",
    "    bitmap_files = []\n",
    "    jpg_files = [os.path.join(directory, file) for file in os.listdir(directory) if file.lower().endswith('.jpg')]\n",
    "    for file in jpg_files:\n",
    "        img = Image.open(file)\n",
    "        bitmap = np.array(img)\n",
    "        bitmap_files.append(scaleBitmap(cutThirdDimension(bitmap)))\n",
    "    return bitmap_files"
   ]
  },
  {
   "cell_type": "code",
   "execution_count": 81,
   "metadata": {},
   "outputs": [],
   "source": [
    "def turnDicomIntoBitmap(directory):\n",
    "    bitmap_files = []\n",
    "    dicom_files = [os.path.join(directory, file) for file in os.listdir(directory) if file.lower().endswith('.dcm')]\n",
    "\n",
    "    for file in dicom_files:\n",
    "        dicom_data = pydicom.dcmread(file)\n",
    "        bitmap = dicom_data.pixel_array.astype(np.float32)\n",
    "        bitmap = scaleBitmap(cutThirdDimension(bitmap))  \n",
    "        bitmap_files.append(bitmap)\n",
    "\n",
    "    return bitmap_files"
   ]
  },
  {
   "cell_type": "code",
   "execution_count": 82,
   "metadata": {},
   "outputs": [],
   "source": [
    "def turnSingleJpgIntoBitmap(single_file):\n",
    "    directory = r\"Tomograf-images\"\n",
    "    jpg_file = os.path.join(directory, single_file)\n",
    "    if single_file.lower().endswith('.jpg'):\n",
    "        img = Image.open(jpg_file)\n",
    "        bitmap = np.array(img)\n",
    "        return scaleBitmap(cutThirdDimension(bitmap))\n",
    "    else:\n",
    "        print('Wrong file format')\n",
    "        exit()\n",
    "    "
   ]
  },
  {
   "cell_type": "code",
   "execution_count": 83,
   "metadata": {},
   "outputs": [],
   "source": [
    "def turnSingleDicomIntoBitmap(single_file):\n",
    "    directory = r\"Tomograf-dicom\"\n",
    "    dicom_file = os.path.join(directory, single_file)\n",
    "\n",
    "    if single_file.lower().endswith('.dcm'):\n",
    "        dicom_data = pydicom.dcmread(dicom_file)\n",
    "        bitmap = dicom_data.pixel_array.astype(np.float32)  # Convert to float for stability\n",
    "        return scaleBitmap(cutThirdDimension(bitmap))\n",
    "    else:\n",
    "        print('Wrong file format')\n",
    "        exit()"
   ]
  },
  {
   "cell_type": "code",
   "execution_count": 84,
   "metadata": {},
   "outputs": [],
   "source": [
    "def saveBitmapAsJpg(bitmap, filename):\n",
    "    img = Image.fromarray((bitmap * 255).astype(np.uint8))  # Normalize to 0-255 range\n",
    "    img.save(filename, format=\"JPEG\")"
   ]
  },
  {
   "cell_type": "code",
   "execution_count": 85,
   "metadata": {},
   "outputs": [],
   "source": [
    "def saveBitmapAsDicom(bitmap, filename, patient_name, patient_id, date, comment=\"Generated DICOM image\"):\n",
    "    ds = Dataset()\n",
    "\n",
    "    # Set required DICOM fields (some set to static or random values)\n",
    "    ds.PatientName = patient_name\n",
    "    ds.PatientID = patient_id\n",
    "    ds.Modality = \"CT\"\n",
    "    ds.StudyDate = datetime.datetime.strptime(date, \"%d.%m.%Y\")\n",
    "    ds.StudyInstanceUID = pydicom.uid.generate_uid()\n",
    "    ds.SeriesInstanceUID = pydicom.uid.generate_uid()\n",
    "    ds.SOPInstanceUID = pydicom.uid.generate_uid()\n",
    "    ds.SOPClassUID = pydicom.uid.CTImageStorage\n",
    "    ds.ImageType = [\"ORIGINAL\", \"PRIMARY\", \"AXIAL\"]\n",
    "    ds.InstanceNumber = str(random.randint(1, 100))\n",
    "    ds.ImagesInAcquisition = \"1\"\n",
    "    ds.FrameOfReferenceUID = pydicom.uid.generate_uid()\n",
    "\n",
    "    # Convert bitmap to DICOM pixel array\n",
    "    ds.Rows, ds.Columns = bitmap.shape\n",
    "    ds.PhotometricInterpretation = \"MONOCHROME2\"\n",
    "    ds.SamplesPerPixel = 1\n",
    "    ds.BitsAllocated = 16\n",
    "    ds.BitsStored = 16\n",
    "    ds.HighBit = 15\n",
    "    ds.PixelRepresentation = 0\n",
    "    ds.PixelData = (bitmap.astype(np.uint16)).tobytes()\n",
    "\n",
    "    # Set DICOM file meta information\n",
    "    file_meta = pydicom.dataset.FileMetaDataset()\n",
    "    file_meta.MediaStorageSOPClassUID = pydicom.uid.SecondaryCaptureImageStorage\n",
    "    file_meta.MediaStorageSOPInstanceUID = pydicom.uid.generate_uid()\n",
    "    file_meta.TransferSyntaxUID = pydicom.uid.ExplicitVRLittleEndian\n",
    "    file_meta.ImplementationClassUID = pydicom.uid.generate_uid()\n",
    "    file_meta.ImplementationVersionName = \"PYDICOM 2.0.0\"\n",
    "\n",
    "    ds.file_meta = file_meta\n",
    "\n",
    "    ds.ImageComments = comment\n",
    "\n",
    "    # Save as DICOM file\n",
    "    ds.is_little_endian = True\n",
    "    ds.is_implicit_VR = False\n",
    "    ds.save_as(filename, write_like_original=False)"
   ]
  },
  {
   "cell_type": "code",
   "execution_count": 86,
   "metadata": {},
   "outputs": [],
   "source": [
    "def bresenhamAlgorithm(x1, y1, x2, y2):\n",
    "    points = []\n",
    "    x = x1\n",
    "    y = y1\n",
    "    dx = abs(x2 - x1)\n",
    "    dy = abs(y2 - y1)\n",
    "\n",
    "    # Direction of the algorithm\n",
    "    xi = 1 if x1 < x2 else -1\n",
    "    yi = 1 if y1 < y2 else -1\n",
    "\n",
    "    # First pixel\n",
    "    points.append((x,y))\n",
    "\n",
    "    if dx > dy:\n",
    "        # Algorithm operates on the leading axis OX\n",
    "        \n",
    "        d = 2*dy - dx\n",
    "        while x != x2:\n",
    "            # Incrementing D according to algorithm\n",
    "            if d >= 0:\n",
    "                # Move diagonally\n",
    "                x += xi\n",
    "                y += yi\n",
    "                d += 2*(dy-dx)\n",
    "            else:\n",
    "                # Move horizzontally\n",
    "                d += 2*dy\n",
    "                x += xi\n",
    "            points.append((x,y))\n",
    "    else:\n",
    "        # Algorithm operates on the leading axis OY\n",
    "\n",
    "        d = 2*dx - dy\n",
    "        while y != y2:\n",
    "            # Incrementing D according to algorithm\n",
    "            if d >= 0:\n",
    "                # Move diagonally\n",
    "                x += xi\n",
    "                y += yi\n",
    "                d += 2*(dx-dy)\n",
    "            else:\n",
    "                # Move vertically\n",
    "                d += 2*dx\n",
    "                y += yi\n",
    "            points.append((x,y))\n",
    "    return points"
   ]
  },
  {
   "cell_type": "code",
   "execution_count": 87,
   "metadata": {},
   "outputs": [],
   "source": [
    "def resizeImage(bitmap):\n",
    "    # Get the dimensions of the input bitmap (rectangle)\n",
    "    a, b = bitmap.shape\n",
    "\n",
    "    # If already square just return unchanged\n",
    "    if a == b:\n",
    "        return bitmap\n",
    "    \n",
    "    size = max(a, b)\n",
    "\n",
    "    # Create a bitmap with the desired dimensions\n",
    "    big_bitmap = np.zeros((size, size), dtype=bitmap.dtype)\n",
    "\n",
    "    # Compute the offsets to center the image\n",
    "    start_x = (size - a) // 2\n",
    "    start_y = (size - b) // 2\n",
    "\n",
    "    # Copy the original bitmap into the center of the new bitmap\n",
    "    big_bitmap[start_x:start_x + a, start_y:start_y + b] = bitmap\n",
    "\n",
    "    return big_bitmap"
   ]
  },
  {
   "cell_type": "code",
   "execution_count": 88,
   "metadata": {},
   "outputs": [],
   "source": [
    "def radonTransform(bitmap , step, detectors_span, detectors_number):\n",
    "    bitmap = resizeImage(bitmap)\n",
    "\n",
    "    size = max(bitmap.shape)\n",
    "    center = size//2\n",
    "    radius = size//2 - 1\n",
    "\n",
    "    angles = np.deg2rad(np.arange(0,FULL_SCAN_ANGLE,step))\n",
    "    span_rad = np.deg2rad(detectors_span)\n",
    "\n",
    "    sinogram = np.zeros((len(angles), detectors_number), dtype=bitmap.dtype)\n",
    "\n",
    "    for a_i, angle in enumerate(angles):\n",
    "        # Emitter coordinates\n",
    "        x = int(center + radius*np.cos(angle))\n",
    "        y = int(center + radius*np.sin(angle))\n",
    "\n",
    "        # Calculate detectors placements for each emiiter \n",
    "        for d_i in range(detectors_number):\n",
    "            # Detector coordinates\n",
    "            x_d = int(center + radius*np.cos(angle + np.pi - span_rad/2 + (d_i*span_rad)/(detectors_number-1)))\n",
    "            y_d = int(center + radius*np.sin(angle + np.pi - span_rad/2 + (d_i*span_rad)/(detectors_number-1)))\n",
    "\n",
    "            # Ray between emitter and detector\n",
    "            bresenham_points = bresenhamAlgorithm(x, y, x_d, y_d)\n",
    "            \n",
    "            # Calculate sinogram single point\n",
    "            total_intensity = np.mean([bitmap[x_b, y_b] for x_b, y_b in bresenham_points if 0 <= x < size and 0 <= y < size])\n",
    "            sinogram[a_i, d_i] = total_intensity\n",
    "\n",
    "    return sinogram, bitmap.shape[0]"
   ]
  },
  {
   "cell_type": "code",
   "execution_count": 89,
   "metadata": {},
   "outputs": [],
   "source": [
    "def filtering(bitmap, kernel_size = 21):\n",
    "    # Ensure that the kernel size is odd\n",
    "    if kernel_size%2==0:\n",
    "        kernel_size += 1\n",
    "    kernel = np.zeros(kernel_size)\t\n",
    "\n",
    "    # Calculate middle index (kernel is indexed from -k to k są the middle index is k=0)\n",
    "    middle_idx = kernel_size//2\n",
    "    kernel[middle_idx] = 1\n",
    "\n",
    "    # Calculate kernel values for negative k:\n",
    "    # h[k] = 0, if k is even\n",
    "    # h[k] = (-4/pi^2)/k^2, if k is odd\n",
    "    for i in range(1, middle_idx, 2):\n",
    "        kernel[i] = (-4/(np.pi**2)) / ((i-middle_idx)**2) \n",
    "\n",
    "    # Mirror first half of kernel into the second half\n",
    "    kernel[-middle_idx:] = kernel[:middle_idx][::-1]\n",
    "\n",
    "    # Use convolution\n",
    "    for it, i in enumerate(bitmap):\n",
    "        bitmap[it] = np.convolve(i, kernel, mode='same')\n",
    "    return bitmap"
   ]
  },
  {
   "cell_type": "code",
   "execution_count": 90,
   "metadata": {},
   "outputs": [],
   "source": [
    "def inverseRadonTransform(sinogram, resized_size, detectors_span):\n",
    "    step = FULL_SCAN_ANGLE/sinogram.shape[0]\n",
    "    detectors_number = sinogram.shape[1]\n",
    "\n",
    "    center = resized_size//2\n",
    "    radius = resized_size//2 - 1\n",
    "\n",
    "    angles = np.deg2rad(np.arange(0,FULL_SCAN_ANGLE,step))\n",
    "    span_rad = np.deg2rad(detectors_span)\n",
    "\n",
    "    result_image = np.zeros((resized_size, resized_size), dtype=sinogram.dtype)\n",
    "\n",
    "    for a_i, angle in enumerate(angles):\n",
    "        # Emitter coordinates\n",
    "        x = int(center + radius*np.cos(angle))\n",
    "        y = int(center + radius*np.sin(angle))\n",
    "\n",
    "        for d_i in range(detectors_number):\n",
    "            # Detector coordinates\n",
    "            x_d = int(center + radius*np.cos(angle + np.pi - span_rad/2 + (d_i*span_rad)/(detectors_number-1)))\n",
    "            y_d = int(center + radius*np.sin(angle + np.pi - span_rad/2 + (d_i*span_rad)/(detectors_number-1)))\n",
    "\n",
    "            # Ray between emitter and detector\n",
    "            bresenham_points = bresenhamAlgorithm(x, y, x_d, y_d)\n",
    "\n",
    "            # Calculate sinogram single point\n",
    "            for x_b, y_b in bresenham_points:\n",
    "                if 0 <= x_b < resized_size and 0 <= y_b < resized_size:\n",
    "                    result_image[x_b, y_b] += sinogram[a_i, d_i]\n",
    "    return result_image"
   ]
  },
  {
   "cell_type": "code",
   "execution_count": 91,
   "metadata": {},
   "outputs": [],
   "source": [
    "def cropToOriginal(resized_bitmap, a, b):\n",
    "    size = resized_bitmap.shape[0]  # Square size\n",
    "\n",
    "    # Compute the offsets used during centering\n",
    "    start_x = (size - a) // 2\n",
    "    start_y = (size - b) // 2\n",
    "\n",
    "    # Crop the image back to the original size\n",
    "    cropped_bitmap = resized_bitmap[start_x:start_x + a, start_y:start_y + b]\n",
    "\n",
    "    return cropped_bitmap"
   ]
  },
  {
   "cell_type": "code",
   "execution_count": 92,
   "metadata": {},
   "outputs": [],
   "source": [
    "def normalizeImage(bitmap):\n",
    "    bitmap = np.maximum(bitmap, 0)  # Remove negative values\n",
    "    max_val = np.quantile(bitmap, 0.999)  # Use the 99.9th percentile for scaling\n",
    "    bitmap = np.clip(bitmap / max_val, 0, 1) if max_val > 0 else np.zeros_like(bitmap)\n",
    "    return bitmap"
   ]
  },
  {
   "cell_type": "code",
   "execution_count": 93,
   "metadata": {},
   "outputs": [],
   "source": [
    "def meanSquaredError(img1, img2):\n",
    "    if img1.shape != img2.shape:\n",
    "        raise ValueError(\"Obrazy muszą mieć ten sam rozmiar\")\n",
    "    \n",
    "    # Obliczanie MSE\n",
    "    mse = np.mean((img1 - img2) ** 2)\n",
    "    return mse"
   ]
  },
  {
   "cell_type": "code",
   "execution_count": 94,
   "metadata": {},
   "outputs": [],
   "source": [
    "def addInteractiveInputFile():\n",
    "    html_widget_input_file = widgets.HTML(\n",
    "        value=\"<p><b>   Provide the name of the DICOM input file   </b></p>\",\n",
    "    )\n",
    "    display(html_widget_input_file)\n",
    "\n",
    "    text_widget_file = widgets.Text(                    #box for getting the name of the input dicom file\n",
    "        value='Input DICOM file: for e.g. shepp_logan.dcm',\n",
    "        placeholder='Type the name of the input file',\n",
    "        layout=widgets.Layout(\n",
    "            width='600px',                 \n",
    "            margin='20px',                \n",
    "        ),\n",
    "        disabled=False   \n",
    "    )\n",
    "    display(text_widget_file)\n",
    "\n",
    "def getInteracitveDicomData():\n",
    "    html_widget_dicom_section = widgets.HTML(\n",
    "        value=\"<p><b>   Provide data for a DICOM file   </b></p>\",\n",
    "    )\n",
    "    display(html_widget_dicom_section)\n",
    "    \n",
    "    text_widget_patient_name = widgets.Text(            #box for getting name & surname of the patient\n",
    "        value='Name Surname',\n",
    "        placeholder='Type the name and surname of the patient',\n",
    "        layout=widgets.Layout(\n",
    "            width='600px',                 \n",
    "            margin='20px'                  \n",
    "        ),\n",
    "        disabled=False\n",
    "    )\n",
    "    display(text_widget_patient_name)\n",
    "\n",
    "    text_widget_date =  widgets.Text(                   #box for getting the date\n",
    "        value = \"Date in format: dd.mm.yyyy\",\n",
    "        placeholder='Type the date in format dd.mm.yyyy',\n",
    "        layout=widgets.Layout(\n",
    "            width='600px',                 \n",
    "            margin='20px'                  \n",
    "        ),\n",
    "        disabled=False\n",
    "    )\n",
    "    display(text_widget_date)\n",
    "\n",
    "    text_widget_patient_id = widgets.Text(              #box for getting patient's id\n",
    "        value = \"Patient\\'s id\",\n",
    "        placeholder='Type the patients id',\n",
    "        layout=widgets.Layout(\n",
    "            width='600px',                 \n",
    "            margin='20px'                  \n",
    "        ),\n",
    "        disabled=False\n",
    "    )\n",
    "    display(text_widget_patient_id)\n",
    "\n",
    "    text_widget_comment = widgets.Text(              #box for getting comment for the dicom file\n",
    "        value = \"Comment\",\n",
    "        placeholder='Type the comment',\n",
    "        layout=widgets.Layout(\n",
    "            width='600px',                 \n",
    "            margin='20px'                  \n",
    "        ),\n",
    "        disabled=False\n",
    "    )\n",
    "    display(text_widget_comment)\n",
    "\n",
    "\n",
    "    text_widget_output_file = widgets.Text(             #box for getting the name of the output file\n",
    "        value = \"Name of the output DICOM file\",\n",
    "        placeholder='Type the name of the output file',\n",
    "        layout=widgets.Layout(\n",
    "            width='600px',                 \n",
    "            margin='20px'                  \n",
    "        ),\n",
    "        disabled=False\n",
    "    )\n",
    "    display(text_widget_output_file)\n",
    "\n",
    "    \n",
    "def addInteractiveFilteringCheck():\n",
    "    html_widget_check_filtering = widgets.HTML(\n",
    "        value=\"<p><b>   Do You want to use filtering?   </b></p>\",\n",
    "    )\n",
    "    display(html_widget_check_filtering)\n",
    "\n",
    "    filter_checkbox = widgets.Checkbox(                 #checkbox for deciding whether to use filtering\n",
    "        value=False,\n",
    "        description='I want to use filtering',\n",
    "        disabled=False,\n",
    "        layout=widgets.Layout(\n",
    "            width='600px',                 \n",
    "            margin='20px'                  \n",
    "        ),\n",
    "        indent=False\n",
    "    )\n",
    "    display(filter_checkbox)\n",
    "\n",
    "def addInteractiveTechnicalParameters():\n",
    "    html_widget_technical_params = widgets.HTML(                       \n",
    "        value=\"<p><b>   Provide technical parameters   </b></p>\",\n",
    "    )\n",
    "    display(html_widget_technical_params)\n",
    "\n",
    "    html_widget_delta_alpha = widgets.HTML(                                      #slider for chosing the step ∆α of the emitter/detector system \n",
    "        value=\"<p><b>   Step ∆α of the emitter/detector system   </b></p>\",\n",
    "        layout=widgets.Layout(            \n",
    "            margin='20px'                  \n",
    "        ),\n",
    "\n",
    "    )\n",
    "    display(html_widget_delta_alpha)\n",
    "\n",
    "    widget_slider_step =widgets.FloatSlider(\n",
    "        value=2,\n",
    "        min=0.5,\n",
    "        max=4,\n",
    "        step=0.25,\n",
    "        disabled=False,\n",
    "        continuous_update=False,\n",
    "        orientation='horizontal',\n",
    "        readout=True,\n",
    "        readout_format='.1f',\n",
    "        layout=widgets.Layout(               \n",
    "            margin='20px'                  \n",
    "        ),\n",
    "    )\n",
    "    display(widget_slider_step)\n",
    "\n",
    "    html_widget_n = widgets.HTML(                                               #slider for chosing the number of the detectors\n",
    "        value=\"<p><b>  Number of detectors for a single emitter/detector system  </b></p>\",\n",
    "        layout=widgets.Layout(            \n",
    "            margin='20px'                  \n",
    "        ),\n",
    "\n",
    "    )\n",
    "    display(html_widget_n)\n",
    "    \n",
    "    widget_slider_n =widgets.IntSlider(\n",
    "        value=180,\n",
    "        min=90,\n",
    "        max=720,\n",
    "        step=90,\n",
    "        disabled=False,\n",
    "        continuous_update=False,\n",
    "        orientation='horizontal',\n",
    "        readout=True,\n",
    "        readout_format='d',\n",
    "        layout=widgets.Layout(               \n",
    "            margin='20px'                  \n",
    "        ),\n",
    "    )\n",
    "    display(widget_slider_n)\n",
    "\n",
    "    html_widget_span = widgets.HTML(                                              #slider for chosing the divergence/span of the emitter/detector system\n",
    "        value=\"<p><b>  Divergence/span of the emitter/detector system  </b></p>\",\n",
    "        layout=widgets.Layout(            \n",
    "            margin='20px'                  \n",
    "        ),\n",
    "\n",
    "    )\n",
    "    display(html_widget_span)\n",
    "    \n",
    "    widget_slider_span =widgets.IntSlider(\n",
    "        value=180,\n",
    "        min=45,\n",
    "        max=270,\n",
    "        step=45,\n",
    "        disabled=False,\n",
    "        continuous_update=False,\n",
    "        orientation='horizontal',\n",
    "        readout=True,\n",
    "        readout_format='d',\n",
    "        layout=widgets.Layout(               \n",
    "            margin='20px'                  \n",
    "        ),\n",
    "    )\n",
    "    display(widget_slider_span)\n",
    "\n",
    "def addInteractiveShowProcess():\n",
    "    html_widget_show_process = widgets.HTML(\n",
    "        value=\"<p><b>  Show process  </b></p>\",\n",
    "    )\n",
    "    display(html_widget_show_process)\n",
    "    widget_slider_show_process =widgets.IntSlider(\n",
    "        value=180,\n",
    "        min=45,\n",
    "        max=270,\n",
    "        step=45,\n",
    "        disabled=False,\n",
    "        continuous_update=False,\n",
    "        orientation='horizontal',\n",
    "        readout=True,\n",
    "        readout_format='d',\n",
    "        layout=widgets.Layout(               \n",
    "            margin='20px'                  \n",
    "        ),\n",
    "    )\n",
    "    display(widget_slider_show_process)\n",
    "\n",
    "def addInteractives():\n",
    "    addInteractiveInputFile()\n",
    "    getInteracitveDicomData()\n",
    "    addInteractiveFilteringCheck()\n",
    "    addInteractiveTechnicalParameters()\n",
    "    addInteractiveShowProcess()\n",
    " "
   ]
  },
  {
   "cell_type": "code",
   "execution_count": 95,
   "metadata": {},
   "outputs": [
    {
     "data": {
      "application/vnd.jupyter.widget-view+json": {
       "model_id": "c7af92109354462b9529f8ba232e56dc",
       "version_major": 2,
       "version_minor": 0
      },
      "text/plain": [
       "HTML(value='<p><b>   Provide the name of the DICOM input file   </b></p>')"
      ]
     },
     "metadata": {},
     "output_type": "display_data"
    },
    {
     "data": {
      "application/vnd.jupyter.widget-view+json": {
       "model_id": "de9c35c64f8141f794434293aa34119c",
       "version_major": 2,
       "version_minor": 0
      },
      "text/plain": [
       "Text(value='Input DICOM file: for e.g. shepp_logan.dcm', layout=Layout(margin='20px', width='600px'), placehol…"
      ]
     },
     "metadata": {},
     "output_type": "display_data"
    },
    {
     "data": {
      "application/vnd.jupyter.widget-view+json": {
       "model_id": "cc4ba45e86024e59863ff0bea64084a7",
       "version_major": 2,
       "version_minor": 0
      },
      "text/plain": [
       "HTML(value='<p><b>   Provide data for a DICOM file   </b></p>')"
      ]
     },
     "metadata": {},
     "output_type": "display_data"
    },
    {
     "data": {
      "application/vnd.jupyter.widget-view+json": {
       "model_id": "34d8d950970a49a7b085b474343eb2cb",
       "version_major": 2,
       "version_minor": 0
      },
      "text/plain": [
       "Text(value='Name Surname', layout=Layout(margin='20px', width='600px'), placeholder='Type the name and surname…"
      ]
     },
     "metadata": {},
     "output_type": "display_data"
    },
    {
     "data": {
      "application/vnd.jupyter.widget-view+json": {
       "model_id": "4ef31c04288145318d82f5adcf25f769",
       "version_major": 2,
       "version_minor": 0
      },
      "text/plain": [
       "Text(value='Date in format: dd.mm.yyyy', layout=Layout(margin='20px', width='600px'), placeholder='Type the da…"
      ]
     },
     "metadata": {},
     "output_type": "display_data"
    },
    {
     "data": {
      "application/vnd.jupyter.widget-view+json": {
       "model_id": "cdf21708af004c66aa679bf7eaa83c5d",
       "version_major": 2,
       "version_minor": 0
      },
      "text/plain": [
       "Text(value=\"Patient's id\", layout=Layout(margin='20px', width='600px'), placeholder='Type the patients id')"
      ]
     },
     "metadata": {},
     "output_type": "display_data"
    },
    {
     "data": {
      "application/vnd.jupyter.widget-view+json": {
       "model_id": "81ccb2aea0d04a3b813f59cb7b88696f",
       "version_major": 2,
       "version_minor": 0
      },
      "text/plain": [
       "Text(value='Comment', layout=Layout(margin='20px', width='600px'), placeholder='Type the comment')"
      ]
     },
     "metadata": {},
     "output_type": "display_data"
    },
    {
     "data": {
      "application/vnd.jupyter.widget-view+json": {
       "model_id": "9fae624cb968482db9ccda790f5c1896",
       "version_major": 2,
       "version_minor": 0
      },
      "text/plain": [
       "Text(value='Name of the output DICOM file', layout=Layout(margin='20px', width='600px'), placeholder='Type the…"
      ]
     },
     "metadata": {},
     "output_type": "display_data"
    },
    {
     "data": {
      "application/vnd.jupyter.widget-view+json": {
       "model_id": "564763318b6c4d6f9d86d7f2d7d92e2c",
       "version_major": 2,
       "version_minor": 0
      },
      "text/plain": [
       "HTML(value='<p><b>   Do You want to use filtering?   </b></p>')"
      ]
     },
     "metadata": {},
     "output_type": "display_data"
    },
    {
     "data": {
      "application/vnd.jupyter.widget-view+json": {
       "model_id": "0600967d7cc64971a9f5498cc15b5880",
       "version_major": 2,
       "version_minor": 0
      },
      "text/plain": [
       "Checkbox(value=False, description='I want to use filtering', indent=False, layout=Layout(margin='20px', width=…"
      ]
     },
     "metadata": {},
     "output_type": "display_data"
    },
    {
     "data": {
      "application/vnd.jupyter.widget-view+json": {
       "model_id": "a22c7dfcce4748a6a35aa8d0c102f8ed",
       "version_major": 2,
       "version_minor": 0
      },
      "text/plain": [
       "HTML(value='<p><b>   Provide technical parameters   </b></p>')"
      ]
     },
     "metadata": {},
     "output_type": "display_data"
    },
    {
     "data": {
      "application/vnd.jupyter.widget-view+json": {
       "model_id": "91c5de711fc64816873ab6bd979cb49f",
       "version_major": 2,
       "version_minor": 0
      },
      "text/plain": [
       "HTML(value='<p><b>   Step ∆α of the emitter/detector system   </b></p>', layout=Layout(margin='20px'))"
      ]
     },
     "metadata": {},
     "output_type": "display_data"
    },
    {
     "data": {
      "application/vnd.jupyter.widget-view+json": {
       "model_id": "7b08074dee524334982430388f2ed4bb",
       "version_major": 2,
       "version_minor": 0
      },
      "text/plain": [
       "FloatSlider(value=2.0, continuous_update=False, layout=Layout(margin='20px'), max=4.0, min=0.5, readout_format…"
      ]
     },
     "metadata": {},
     "output_type": "display_data"
    },
    {
     "data": {
      "application/vnd.jupyter.widget-view+json": {
       "model_id": "ee31a1fb016b42ff88b9ae21513be196",
       "version_major": 2,
       "version_minor": 0
      },
      "text/plain": [
       "HTML(value='<p><b>  Number of detectors for a single emitter/detector system  </b></p>', layout=Layout(margin=…"
      ]
     },
     "metadata": {},
     "output_type": "display_data"
    },
    {
     "data": {
      "application/vnd.jupyter.widget-view+json": {
       "model_id": "1dd903ba203342ed84c3b2124d5b5cea",
       "version_major": 2,
       "version_minor": 0
      },
      "text/plain": [
       "IntSlider(value=180, continuous_update=False, layout=Layout(margin='20px'), max=720, min=90, step=90)"
      ]
     },
     "metadata": {},
     "output_type": "display_data"
    },
    {
     "data": {
      "application/vnd.jupyter.widget-view+json": {
       "model_id": "a62c2b59d9da435b9e7bfca024a474ef",
       "version_major": 2,
       "version_minor": 0
      },
      "text/plain": [
       "HTML(value='<p><b>  Divergence/span of the emitter/detector system  </b></p>', layout=Layout(margin='20px'))"
      ]
     },
     "metadata": {},
     "output_type": "display_data"
    },
    {
     "data": {
      "application/vnd.jupyter.widget-view+json": {
       "model_id": "537907d4b7da42ebabef81dbdf36803d",
       "version_major": 2,
       "version_minor": 0
      },
      "text/plain": [
       "IntSlider(value=180, continuous_update=False, layout=Layout(margin='20px'), max=270, min=45, step=45)"
      ]
     },
     "metadata": {},
     "output_type": "display_data"
    },
    {
     "data": {
      "application/vnd.jupyter.widget-view+json": {
       "model_id": "e89fa34274b64458876bb7cb1fbbc7e3",
       "version_major": 2,
       "version_minor": 0
      },
      "text/plain": [
       "HTML(value='<p><b>  Show process  </b></p>')"
      ]
     },
     "metadata": {},
     "output_type": "display_data"
    },
    {
     "data": {
      "application/vnd.jupyter.widget-view+json": {
       "model_id": "c4c02fd8dc7e4970a6c79324797f636f",
       "version_major": 2,
       "version_minor": 0
      },
      "text/plain": [
       "IntSlider(value=180, continuous_update=False, layout=Layout(margin='20px'), max=270, min=45, step=45)"
      ]
     },
     "metadata": {},
     "output_type": "display_data"
    }
   ],
   "source": [
    "if __name__ == '__main__':\n",
    "\n",
    "    # Load the DICOM file\n",
    "    dicom_file = 'Tomograf-dicom/shepp_logan.dcm'  # Replace with your file path\n",
    "    dataset = pydicom.dcmread(dicom_file)\n",
    "    \n",
    "    #For multiple files turning into bitmaps\n",
    "    # bitmap_files = turnJpgIntoBitmap(r\"Tomograf-images\")\n",
    "    # for file in bitmap_files:\n",
    "    #     plt.imshow(file, cmap='gray')\n",
    "    #     plt.show()\n",
    "\n",
    "    #Single file into bitmap\n",
    "    # bitmap = turnSingleJpgIntoBitmap('Shepp_logan.jpg')\n",
    "\n",
    "    #Single dicom file into bitmap\n",
    "\n",
    "\n",
    "    #--------------------------\n",
    "    # bitmap = turnSingleDicomIntoBitmap('shepp_logan.dcm')\n",
    "    # original_shape_a = bitmap.shape[0]\n",
    "    # original_shape_b = bitmap.shape[1]\n",
    "\n",
    "    # plt.imshow(bitmap, cmap='gray')\n",
    "    # plt.show()\n",
    "\n",
    "    # sinogram, resized_shape = radonTransform(bitmap=bitmap, step=1, detectors_span=270, detectors_number=360)\n",
    "    # plt.imshow(sinogram, cmap='gray', aspect='auto')\n",
    "    # plt.show()\n",
    "\n",
    "    # sinogram = filtering(sinogram, 21)\n",
    "    # plt.imshow(sinogram, cmap='gray', aspect='auto')\n",
    "    # plt.show()\n",
    "\n",
    "    # inversed_bitmap = inverseRadonTransform(sinogram, resized_shape, detectors_span=270)\n",
    "    # inversed_bitmap = cropToOriginal(inversed_bitmap, original_shape_a, original_shape_b)\n",
    "    # normalized_inversed_bitmap = normalizeImage(inversed_bitmap)\n",
    "    # plt.imshow(normalized_inversed_bitmap, cmap='gray')\n",
    "    # plt.show()\n",
    "\n",
    "    # saveBitmapAsJpg(normalized_inversed_bitmap, \"test.jpg\")\n",
    "    # saveBitmapAsDicom((normalized_inversed_bitmap * 65535).astype(np.uint16), \"test.dcm\", \"Stefan Batory\", \"1122334455\", \"15.01.2025\", \"Comment tmp\")\n",
    "\n",
    "    # mse = meanSquaredError(bitmap, normalized_inversed_bitmap)\n",
    "    # print(f\"Mean Squared Error: {mse}\")\n",
    "    addInteractives()"
   ]
  }
 ],
 "metadata": {
  "kernelspec": {
   "display_name": "Python 3",
   "language": "python",
   "name": "python3"
  },
  "language_info": {
   "codemirror_mode": {
    "name": "ipython",
    "version": 3
   },
   "file_extension": ".py",
   "mimetype": "text/x-python",
   "name": "python",
   "nbconvert_exporter": "python",
   "pygments_lexer": "ipython3",
   "version": "3.13.1"
  }
 },
 "nbformat": 4,
 "nbformat_minor": 2
}
